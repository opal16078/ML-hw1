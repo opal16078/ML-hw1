{
  "nbformat": 4,
  "nbformat_minor": 0,
  "metadata": {
    "colab": {
      "provenance": [],
      "authorship_tag": "ABX9TyMffBMPc+FO78HcgoJ57Y6Y",
      "include_colab_link": true
    },
    "kernelspec": {
      "name": "python3",
      "display_name": "Python 3"
    },
    "language_info": {
      "name": "python"
    },
    "gpuClass": "standard"
  },
  "cells": [
    {
      "cell_type": "markdown",
      "metadata": {
        "id": "view-in-github",
        "colab_type": "text"
      },
      "source": [
        "<a href=\"https://colab.research.google.com/github/opal16078/ML-hw1/blob/main/project1.ipynb\" target=\"_parent\"><img src=\"https://colab.research.google.com/assets/colab-badge.svg\" alt=\"Open In Colab\"/></a>"
      ]
    },
    {
      "cell_type": "code",
      "source": [
        "import pandas as pd\n",
        "import numpy as np\n",
        "\n",
        "df=pd.read_csv('house_data_train.csv', index_col = 0)\n",
        "df = df.dropna()\n",
        "# setting to read the data form 0 to index 16211\n",
        "df1 = df.head(16211)"
      ],
      "metadata": {
        "id": "VfuEtXqoYeSy"
      },
      "execution_count": 37,
      "outputs": []
    },
    {
      "cell_type": "code",
      "execution_count": 38,
      "metadata": {
        "id": "r-NfCMmWx4HS",
        "colab": {
          "base_uri": "https://localhost:8080/"
        },
        "outputId": "f8a0a277-e067-4152-9d5f-868ae9519331"
      },
      "outputs": [
        {
          "output_type": "stream",
          "name": "stdout",
          "text": [
            "cv_score:  [0.80299569 0.79482245 0.79643747 0.80244429 0.85338763] \n",
            "rscore-train: 0.81 rscore-test: 0.8302 \n",
            "mse:  -26174232194.04873 \n",
            "mae:  91840.46059507599\n"
          ]
        }
      ],
      "source": [
        "from sklearn.preprocessing import StandardScaler\n",
        "from sklearn.metrics import mean_squared_error\n",
        "from sklearn.metrics import mean_absolute_error\n",
        "from sklearn.preprocessing import PolynomialFeatures\n",
        "from sklearn.impute import SimpleImputer\n",
        "from sklearn.linear_model import LinearRegression , Lasso , Ridge\n",
        "from sklearn.pipeline import Pipeline\n",
        "from sklearn.model_selection import train_test_split\n",
        "from sklearn.model_selection import cross_val_score\n",
        "from sklearn.model_selection import KFold\n",
        "\n",
        "#ignore warning \n",
        "def warn(*args, **kwargs):\n",
        "    pass\n",
        "import warnings\n",
        "warnings.warn = warn\n",
        "\n",
        "# adding feature\n",
        "X = df1[['sqft_living' , 'sqft_lot','bedrooms','bathrooms','floors','waterfront','view','condition','grade','yr_built','yr_renovated','sqft_above', 'sqft_basement','sqft_living15' ,'sqft_lot15','lat','long']].values\n",
        "y = df1['price'].values\n",
        "\n",
        "# set the dimension of X\n",
        "X = X.reshape(-1,17)\n",
        "\n",
        "X_train , X_test , y_train , y_test = train_test_split(X,y, shuffle=False)\n",
        "#splite the data to 5 set\n",
        "kfold = KFold(n_splits = 5 , shuffle=True , random_state= 10)\n",
        "\n",
        "steps = [(\"imp_mean\", SimpleImputer()) , \n",
        "         (\"scaler\", StandardScaler()) , \n",
        "         (\"transform\", PolynomialFeatures(degree = 5,include_bias=False)) , \n",
        "        #  (\"LinearReg\" , LinearRegression())\n",
        "         (\"LassoReg\" , Lasso(alpha = 50 , max_iter = 20000 , normalize = True))\n",
        "        #  (\"RidgeReg\" , Ridge(alpha = 1 , max_iter = 20000 , normalize = True))\n",
        "         ]\n",
        "\n",
        "pipeline = Pipeline(steps)\n",
        "pipeline.fit(X_train,y_train)\n",
        "# rscore_test = pipeline.score(X_test,y_test)\n",
        "# rscore_train = pipeline.score(X_train,y_train)\n",
        "cv_score_train = cross_val_score( pipeline , X_train , y_train , cv=kfold )\n",
        "cv_score_test = cross_val_score( pipeline , X_test , y_test , cv=kfold )\n",
        "rscore_train = cv_score_train.mean()\n",
        "rscore_test = cv_score_test.mean()\n",
        "y_pred = pipeline.predict(X_test)\n",
        "\n",
        "#finding mean squared error\n",
        "mse = abs(cross_val_score( pipeline , X_train , y_train , cv=kfold , scoring ='neg_mean_squared_error' ).mean())\n",
        "#finding mean absolute error\n",
        "mae = abs(cross_val_score( pipeline , X_train , y_train , cv=kfold , scoring ='neg_mean_absolute_error' ).mean())\n",
        "\n",
        "\n",
        "\n",
        "#  print('r2-score-test:', rscore_test.round(2) , '\\nr2-score-train:', rscore_train.round(2))\n",
        "print( \"cv_score: \", cv_score_train ,'\\nrscore-train:', rscore_train.round(4), 'rscore-test:', rscore_test.round(4),\n",
        "         \"\\nmse: \" , mse ,\n",
        "         \"\\nmae: \", mae\n",
        "      )"
      ]
    },
    {
      "cell_type": "code",
      "source": [
        "import joblib\n",
        "\n",
        "#export the pipeline to best model file\n",
        "joblib.dump( pipeline ,'best_model.pkl')\n"
      ],
      "metadata": {
        "colab": {
          "base_uri": "https://localhost:8080/"
        },
        "id": "wMEghrfc1Snw",
        "outputId": "33fec644-6e2d-4d27-e534-dc0ba60862f8"
      },
      "execution_count": 39,
      "outputs": [
        {
          "output_type": "execute_result",
          "data": {
            "text/plain": [
              "['best_model.pkl']"
            ]
          },
          "metadata": {},
          "execution_count": 39
        }
      ]
    },
    {
      "cell_type": "code",
      "source": [
        "# cv_score:  [0.76724335 0.79753651 0.79040556 0.76394899 0.80129259] ||||||||| d=3 alpha=50\n",
        "# rscore-train: 0.7841 rscore-test: 0.793 \n",
        "# mae:  98425.07753843135\n",
        "# cv_score:  [0.80285515 0.80779197 0.80406324 0.77197231 0.82153559] ||||||||| d=4 alpha=50\n",
        "# rscore-train: 0.8016 rscore-test: 0.7574 \n",
        "# mae:  95367.37893774272\n",
        "# cv_score:  [0.80299569 0.79482245 0.79643747 0.80244429 0.85338763]  |||||||||| d=5 alpha=100\n",
        "# rscore-train: 0.81 rscore-test: 0.8302 \n",
        "# mse:  -26174232194.04873 \n",
        "# mae:  91840.46059507599\n",
        "\n",
        "#some test of data"
      ],
      "metadata": {
        "id": "3lgkGlgHTUmW"
      },
      "execution_count": 40,
      "outputs": []
    }
  ]
}