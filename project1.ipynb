{
  "nbformat": 4,
  "nbformat_minor": 0,
  "metadata": {
    "colab": {
      "provenance": [],
      "authorship_tag": "ABX9TyMVm3KxzyfT6tsdlVN4eYG5",
      "include_colab_link": true
    },
    "kernelspec": {
      "name": "python3",
      "display_name": "Python 3"
    },
    "language_info": {
      "name": "python"
    },
    "gpuClass": "standard"
  },
  "cells": [
    {
      "cell_type": "markdown",
      "metadata": {
        "id": "view-in-github",
        "colab_type": "text"
      },
      "source": [
        "<a href=\"https://colab.research.google.com/github/opal16078/ML-hw1/blob/main/project1.ipynb\" target=\"_parent\"><img src=\"https://colab.research.google.com/assets/colab-badge.svg\" alt=\"Open In Colab\"/></a>"
      ]
    },
    {
      "cell_type": "code",
      "source": [
        "import pandas as pd\n",
        "import numpy as np\n",
        "\n",
        "df=pd.read_csv('house_data_train.csv', index_col = 0)\n",
        "df = df.dropna()\n",
        "df1 = df.head(16211)"
      ],
      "metadata": {
        "id": "VfuEtXqoYeSy"
      },
      "execution_count": 25,
      "outputs": []
    },
    {
      "cell_type": "code",
      "execution_count": 29,
      "metadata": {
        "id": "r-NfCMmWx4HS",
        "colab": {
          "base_uri": "https://localhost:8080/"
        },
        "outputId": "3a3e0b4f-1d70-4074-9460-caccc3282ecd"
      },
      "outputs": [
        {
          "output_type": "stream",
          "name": "stdout",
          "text": [
            "cv_score:  [0.80285515 0.80779197 0.80406324 0.77197231 0.82153559] \n",
            "rscore-train: 0.8016 rscore-test: 0.7574 \n",
            "mae:  95367.37893774272\n"
          ]
        }
      ],
      "source": [
        "from sklearn.preprocessing import StandardScaler\n",
        "from sklearn.metrics import mean_squared_error\n",
        "from sklearn.metrics import mean_absolute_error\n",
        "from sklearn.preprocessing import PolynomialFeatures\n",
        "from sklearn.impute import SimpleImputer\n",
        "from sklearn.linear_model import LinearRegression , Lasso , Ridge\n",
        "from sklearn.pipeline import Pipeline\n",
        "from sklearn.model_selection import train_test_split\n",
        "from sklearn.model_selection import cross_val_score\n",
        "from sklearn.model_selection import KFold\n",
        "\n",
        "def warn(*args, **kwargs):\n",
        "    pass\n",
        "import warnings\n",
        "warnings.warn = warn\n",
        "\n",
        "\n",
        "X = df1[['sqft_living' , 'sqft_lot','bedrooms','bathrooms','floors','waterfront','view','condition','grade','yr_built','yr_renovated','sqft_above', 'sqft_basement','sqft_living15' ,'sqft_lot15','yr_built','lat']].values\n",
        "y = df1['price'].values\n",
        "X = X.reshape(-1,17)\n",
        "\n",
        "X_train , X_test , y_train , y_test = train_test_split(X,y, shuffle=False)\n",
        "kfold = KFold(n_splits = 5 , shuffle=True , random_state= 10)\n",
        "\n",
        "steps = [(\"imp_mean\", SimpleImputer()) , \n",
        "         (\"scaler\", StandardScaler()) , \n",
        "         (\"transform\", PolynomialFeatures(degree = 4,include_bias=False)) , \n",
        "        #  (\"LinearReg\" , LinearRegression())\n",
        "         (\"LassoReg\" , Lasso(alpha = 50 , max_iter = 20000 , normalize = True))\n",
        "        #  (\"RidgeReg\" , Ridge(alpha = 1 , max_iter = 20000 , normalize = True))\n",
        "         ]\n",
        "\n",
        "pipeline = Pipeline(steps)\n",
        "pipeline.fit(X_train,y_train)\n",
        "# rscore_test = pipeline.score(X_test,y_test)\n",
        "# rscore_train = pipeline.score(X_train,y_train)\n",
        "cv_score_train = cross_val_score( pipeline , X_train , y_train , cv=kfold )\n",
        "cv_score_test = cross_val_score( pipeline , X_test , y_test , cv=kfold )\n",
        "rscore_train = cv_score_train.mean()\n",
        "rscore_test = cv_score_test.mean()\n",
        "y_pred = pipeline.predict(X_test)\n",
        "\n",
        "# mse = cross_val_score( pipeline , X_train , y_train , cv=kfold , scoring ='neg_mean_squared_error' ).mean()\n",
        "mae = abs(cross_val_score( pipeline , X_train , y_train , cv=kfold , scoring ='neg_mean_absolute_error' ).mean())\n",
        "\n",
        "\n",
        "\n",
        "# print('r2-score-test:', rscore_test.round(2) , '\\nr2-score-train:', rscore_train.round(2))\n",
        "print( \"cv_score: \", cv_score_train ,'\\nrscore-train:', rscore_train.round(4), 'rscore-test:', rscore_test.round(4),\n",
        "        #  \"\\nmse: \" , mse ,\n",
        "         \"\\nmae: \", mae\n",
        "      )"
      ]
    },
    {
      "cell_type": "code",
      "source": [
        "import joblib\n",
        "\n",
        "joblib.dump( pipeline ,'best_model.pkl')\n"
      ],
      "metadata": {
        "colab": {
          "base_uri": "https://localhost:8080/"
        },
        "id": "wMEghrfc1Snw",
        "outputId": "594577f5-9a20-4fc1-da48-c872f90d7e7a"
      },
      "execution_count": 30,
      "outputs": [
        {
          "output_type": "execute_result",
          "data": {
            "text/plain": [
              "['best_model.pkl']"
            ]
          },
          "metadata": {},
          "execution_count": 30
        }
      ]
    },
    {
      "cell_type": "code",
      "source": [
        "# cv_score:  [0.77301813 0.78677906 0.76869492 0.74641476 0.78821489] |||||||||| d=5 alpha=100\n",
        "# rscore-train: 0.7726 rscore-test: 0.7761 \n",
        "# mae:  106308.34775164677\n",
        "# cv_score:  [0.76724335 0.79753651 0.79040556 0.76394899 0.80129259] ||||||||| d=3 alpha=50\n",
        "# rscore-train: 0.7841 rscore-test: 0.793 \n",
        "# mae:  98425.07753843135"
      ],
      "metadata": {
        "id": "3lgkGlgHTUmW"
      },
      "execution_count": 31,
      "outputs": []
    }
  ]
}