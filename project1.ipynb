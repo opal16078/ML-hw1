{
  "nbformat": 4,
  "nbformat_minor": 0,
  "metadata": {
    "colab": {
      "provenance": [],
      "authorship_tag": "ABX9TyM7YHhttTqM/awyAY4RardB",
      "include_colab_link": true
    },
    "kernelspec": {
      "name": "python3",
      "display_name": "Python 3"
    },
    "language_info": {
      "name": "python"
    }
  },
  "cells": [
    {
      "cell_type": "markdown",
      "metadata": {
        "id": "view-in-github",
        "colab_type": "text"
      },
      "source": [
        "<a href=\"https://colab.research.google.com/gist/opal16078/f2bdb3670793fe3d1a22b2998d13df07/project1.ipynb\" target=\"_parent\"><img src=\"https://colab.research.google.com/assets/colab-badge.svg\" alt=\"Open In Colab\"/></a>"
      ]
    },
    {
      "cell_type": "code",
      "source": [
        "import pandas as pd\n",
        "import numpy as np\n",
        "\n",
        "df=pd.read_csv('house_data_train.csv', index_col = 0)\n",
        "df = df.dropna()\n",
        "df1 = df.head(16211)"
      ],
      "metadata": {
        "id": "VfuEtXqoYeSy"
      },
      "execution_count": null,
      "outputs": []
    },
    {
      "cell_type": "code",
      "execution_count": null,
      "metadata": {
        "id": "r-NfCMmWx4HS",
        "colab": {
          "base_uri": "https://localhost:8080/"
        },
        "outputId": "5594a9cc-d977-40f1-d0da-a38c85be60ff"
      },
      "outputs": [
        {
          "output_type": "stream",
          "name": "stdout",
          "text": [
            "r2-score-test: 0.58 \n",
            "r2-score-train: 0.55\n"
          ]
        }
      ],
      "source": [
        "from sklearn.preprocessing import StandardScaler\n",
        "from sklearn.metrics import mean_squared_error\n",
        "from sklearn.metrics import mean_absolute_error\n",
        "from sklearn.preprocessing import PolynomialFeatures\n",
        "from sklearn.impute import SimpleImputer\n",
        "from sklearn.linear_model import LinearRegression , Lasso , Ridge\n",
        "from sklearn.pipeline import Pipeline\n",
        "from sklearn.model_selection import train_test_split\n",
        "from sklearn.model_selection import cross_val_score\n",
        "from sklearn.model_selection import KFold\n",
        "\n",
        "\n",
        "X = df1['sqft_living'].values\n",
        "y = df1['price'].values\n",
        "\n",
        "X_train , X_test , y_train , y_test = train_test_split(X.reshape(-1,1),y,test_size = 0.3, shuffle=False)\n",
        "\n",
        "steps = [(\"imp_mean\", SimpleImputer()) , \n",
        "         (\"scaler\", StandardScaler()) , \n",
        "         (\"transform\", PolynomialFeatures(degree = 7,include_bias=False)) , \n",
        "         (\"LinearReg\" , LinearRegression())\n",
        "        #  (\"LassoReg\" , Lasso(alpha = 100 , max_iter = 20000 , normalize = True))\n",
        "        #  (\"RidgeReg\" , Ridge(alpha = 1 , max_iter = 20000 , normalize = True))\n",
        "         ]\n",
        "\n",
        "pipeline = Pipeline(steps)\n",
        "pipeline.fit(X_train,y_train)\n",
        "rscore_test = pipeline.score(X_test,y_test)\n",
        "rscore_train = pipeline.score(X_train,y_train)\n",
        "y_pred = pipeline.predict(X_test)\n",
        "\n",
        "print('r2-score-test:', rscore_test.round(2) , '\\nr2-score-train:', rscore_train.round(2))\n"
      ]
    },
    {
      "cell_type": "code",
      "source": [
        "kfold = KFold(n_splits = 10 , shuffle=True , random_state= 10)\n",
        "steps = [(\"imp_mean\", SimpleImputer()) , \n",
        "         (\"scaler\", StandardScaler()) , \n",
        "         (\"transform\", PolynomialFeatures(degree = 5,include_bias=False)) , \n",
        "         (\"LinearReg\" , LinearRegression())\n",
        "         ]\n",
        "pipeline = Pipeline(steps)\n",
        "pipeline.fit(X_train,y_train)\n",
        "cv_score = cross_val_score( pipeline , X_train , y_train , cv=kfold )\n",
        "\n",
        "print(\"cv_score\",cv_score,\"\\ncv_score_mean\",cv_score.mean())\n"
      ],
      "metadata": {
        "id": "9XFed8IdnDqW",
        "colab": {
          "base_uri": "https://localhost:8080/"
        },
        "outputId": "60e8bad7-8a61-4179-9b7a-2d37f3260cb9"
      },
      "execution_count": null,
      "outputs": [
        {
          "output_type": "stream",
          "name": "stdout",
          "text": [
            "cv_score [0.59325715 0.44910004 0.55396046 0.52830363 0.50981497 0.49758716\n",
            " 0.58792438 0.51983219 0.60847486 0.52593038] \n",
            "cv_score_mean 0.5374185215072356\n"
          ]
        }
      ]
    },
    {
      "cell_type": "code",
      "source": [
        "import joblib\n",
        "\n",
        "joblib.dump( pipeline ,'best_model.pkl')\n"
      ],
      "metadata": {
        "colab": {
          "base_uri": "https://localhost:8080/"
        },
        "id": "wMEghrfc1Snw",
        "outputId": "f08a2663-f1e5-4636-b55f-087341651ae6"
      },
      "execution_count": null,
      "outputs": [
        {
          "output_type": "execute_result",
          "data": {
            "text/plain": [
              "['best_model.pkl']"
            ]
          },
          "metadata": {},
          "execution_count": 129
        }
      ]
    }
  ]
}